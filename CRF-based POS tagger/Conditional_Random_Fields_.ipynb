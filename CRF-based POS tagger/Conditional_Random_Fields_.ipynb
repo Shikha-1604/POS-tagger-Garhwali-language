{
  "nbformat": 4,
  "nbformat_minor": 0,
  "metadata": {
    "colab": {
      "name": "Conditional Random Fields* ",
      "provenance": []
    },
    "kernelspec": {
      "name": "python3",
      "display_name": "Python 3"
    },
    "language_info": {
      "name": "python"
    }
  },
  "cells": [
    {
      "cell_type": "code",
      "metadata": {
        "colab": {
          "base_uri": "https://localhost:8080/"
        },
        "id": "vHp1YCzvez4R",
        "outputId": "961fd37e-5899-42f8-982e-405c6d513e48"
      },
      "source": [
        "!pip install sklearn-pycrfsuite\n",
        "!pip install python-crfsuite\n",
        "!pip install tagger\n",
        "!pip install nltk"
      ],
      "execution_count": null,
      "outputs": [
        {
          "output_type": "stream",
          "name": "stdout",
          "text": [
            "Collecting sklearn-pycrfsuite\n",
            "  Downloading sklearn-pycrfsuite-0.4.0.tar.gz (24 kB)\n",
            "Requirement already satisfied: tqdm>=2.0 in /usr/local/lib/python3.7/dist-packages (from sklearn-pycrfsuite) (4.62.3)\n",
            "Requirement already satisfied: six in /usr/local/lib/python3.7/dist-packages (from sklearn-pycrfsuite) (1.15.0)\n",
            "Requirement already satisfied: tabulate in /usr/local/lib/python3.7/dist-packages (from sklearn-pycrfsuite) (0.8.9)\n",
            "Collecting python-crfsuite-extension\n",
            "  Downloading python-crfsuite-extension-0.9.7.tar.gz (485 kB)\n",
            "\u001b[K     |████████████████████████████████| 485 kB 10.9 MB/s \n",
            "\u001b[?25hBuilding wheels for collected packages: sklearn-pycrfsuite, python-crfsuite-extension\n",
            "  Building wheel for sklearn-pycrfsuite (setup.py) ... \u001b[?25l\u001b[?25hdone\n",
            "  Created wheel for sklearn-pycrfsuite: filename=sklearn_pycrfsuite-0.4.0-py2.py3-none-any.whl size=11001 sha256=bfb3a50c2b9b7f916722c0046c607449ec0e7fc9bc0ea3522fa24964dd636c13\n",
            "  Stored in directory: /root/.cache/pip/wheels/44/50/b1/295e502c6652f551dc99bfdb394a3fe2fcb47668e333391f38\n",
            "  Building wheel for python-crfsuite-extension (setup.py) ... \u001b[?25l\u001b[?25hdone\n",
            "  Created wheel for python-crfsuite-extension: filename=python_crfsuite_extension-0.9.7-cp37-cp37m-linux_x86_64.whl size=776528 sha256=d25ad7f8eb7b51d37556f5cd563614311057bd36490db5054bb9302d9bd06c63\n",
            "  Stored in directory: /root/.cache/pip/wheels/70/d7/bf/369f4d179407dbf3840132e4135fa61f0bf711f4496d0bf750\n",
            "Successfully built sklearn-pycrfsuite python-crfsuite-extension\n",
            "Installing collected packages: python-crfsuite-extension, sklearn-pycrfsuite\n",
            "Successfully installed python-crfsuite-extension-0.9.7 sklearn-pycrfsuite-0.4.0\n",
            "Collecting python-crfsuite\n",
            "  Downloading python_crfsuite-0.9.7-cp37-cp37m-manylinux1_x86_64.whl (743 kB)\n",
            "\u001b[K     |████████████████████████████████| 743 kB 8.8 MB/s \n",
            "\u001b[?25hInstalling collected packages: python-crfsuite\n",
            "Successfully installed python-crfsuite-0.9.7\n",
            "Collecting tagger\n",
            "  Downloading tagger-0.3.1.tar.gz (15 kB)\n",
            "  Downloading tagger-0.3.tar.gz (15 kB)\n",
            "  Downloading tagger-0.2.2.tar.gz (15 kB)\n",
            "  Downloading tagger-0.2.tar.gz (16 kB)\n",
            "\u001b[31mERROR: Cannot install tagger==0.2, tagger==0.2.2, tagger==0.3 and tagger==0.3.1 because these package versions have conflicting dependencies.\u001b[0m\n",
            "\n",
            "The conflict is caused by:\n",
            "    tagger 0.3.1 depends on rdflib==2.3.1events\n",
            "    tagger 0.3 depends on rdflib==2.3.1events\n",
            "    tagger 0.2.2 depends on rdflib==2.3.1events\n",
            "    tagger 0.2 depends on rdflib==2.3.1events\n",
            "\n",
            "To fix this you could try to:\n",
            "1. loosen the range of package versions you've specified\n",
            "2. remove package versions to allow pip attempt to solve the dependency conflict\n",
            "\n",
            "\u001b[31mERROR: ResolutionImpossible: for help visit https://pip.pypa.io/en/latest/user_guide/#fixing-conflicting-dependencies\u001b[0m\n",
            "Requirement already satisfied: nltk in /usr/local/lib/python3.7/dist-packages (3.2.5)\n",
            "Requirement already satisfied: six in /usr/local/lib/python3.7/dist-packages (from nltk) (1.15.0)\n"
          ]
        }
      ]
    },
    {
      "cell_type": "code",
      "metadata": {
        "colab": {
          "base_uri": "https://localhost:8080/"
        },
        "id": "es9S5QI1e0if",
        "outputId": "9021a1b9-3c12-4fac-ba24-b0aa1ab60c7c"
      },
      "source": [
        "\n",
        "import nltk\n",
        "from nltk.tag import CRFTagger\n",
        "import pandas as pd\n",
        "from sklearn.metrics import confusion_matrix\n",
        "\n",
        "from google.colab import  drive\n",
        "drive.mount('/content/gdrive')"
      ],
      "execution_count": null,
      "outputs": [
        {
          "output_type": "stream",
          "name": "stdout",
          "text": [
            "Mounted at /content/gdrive\n"
          ]
        }
      ]
    },
    {
      "cell_type": "code",
      "metadata": {
        "colab": {
          "base_uri": "https://localhost:8080/"
        },
        "id": "hxdrSDU3e2VS",
        "outputId": "dc1c8337-7192-4af0-b762-42bbe0161f99"
      },
      "source": [
        "root_path_training=\"gdrive/My Drive/Garhwali pos tagging project/dataset/final/TAGGED DATA (1).txt\"\n",
        "file_train=open(root_path_training,\"r\",encoding=\"UTF-8\")\n",
        "train_=file_train.readlines()\n",
        "print(\"number of training sentences : \",len(train_))\n",
        "\n",
        "\n",
        "root_path_test=\"gdrive/My Drive/Garhwali pos tagging project/dataset/final/Validate.TXT\"\n",
        "file_test=open(root_path_test,\"r\",encoding=\"UTF-8\")\n",
        "test_=file_test.readlines()\n",
        "print(\"number of test sentences : \",len(test_))"
      ],
      "execution_count": null,
      "outputs": [
        {
          "output_type": "stream",
          "name": "stdout",
          "text": [
            "number of training sentences :  6581\n",
            "number of test sentences :  731\n"
          ]
        }
      ]
    },
    {
      "cell_type": "code",
      "metadata": {
        "id": "pwiaSRpfe5DH"
      },
      "source": [
        "###############################################################################\n",
        "#----- FUNCTION TO CREATE LIST OF LIST OF TUPLE(WORD,TAG)----------------#\n",
        "###############################################################################\n",
        "def sent_to_labels(data):\n",
        "    content=[]\n",
        "    for sentence in data:\n",
        "        sent=[]\n",
        "        sentence=sentence.strip(\"\\n\")\n",
        "        for wrd_tg in sentence.split(\" \"):\n",
        "            w_t=tuple(wrd_tg.split(\"_\"))\n",
        "            sent.append(w_t)\n",
        "        content.append(sent)\n",
        "    return content    \n",
        "        \n",
        "\n"
      ],
      "execution_count": null,
      "outputs": []
    },
    {
      "cell_type": "code",
      "metadata": {
        "id": "SVtThtwLe6Rq"
      },
      "source": [
        "###############################################################################\n",
        "#----- FUNCTION TO CREATE LIST OF LIST OF WORD----------------#\n",
        "###############################################################################\n",
        "def validate_sentences(validate_text):\n",
        "    validate=[]\n",
        "    for lines in validate_text:\n",
        "        sent=[]\n",
        "        for tagged in lines.split():\n",
        "            wrd=tagged.split(\"_\")[0]\n",
        "            sent.append(wrd)\n",
        "        validate.append(sent)\n",
        "    return validate    \n",
        "        \n",
        "        "
      ],
      "execution_count": null,
      "outputs": []
    },
    {
      "cell_type": "code",
      "metadata": {
        "id": "4i9Y8ZL1e7iV"
      },
      "source": [
        "############################################################################\n",
        "#---- CALLING FUNCITON TO CREATE THE TRAIN DATA LIST [[(W1,T1),(W2,T2)]]\n",
        "############################################################################\n",
        "train_data=sent_to_labels(train_)\n",
        "\n",
        "\n",
        "############################################################################\n",
        "#---- CALLING FUNCITON TO CREATE THE VALIDATE DATA LIST [[(W1,T1),(W2,T2)]]\n",
        "############################################################################\n",
        "test_data=sent_to_labels(test_)\n",
        "\n",
        "\n",
        "############################################################################################\n",
        "#---- CALLING FUNCITON TO CREATE THE LIST OF SENTENCE TO VALIDATE DATA ON [[\"W1\",\"W2\"....]]\n",
        "############################################################################################\n",
        "\n",
        "test_sent=validate_sentences(test_)\n",
        "\n",
        "\n"
      ],
      "execution_count": null,
      "outputs": []
    },
    {
      "cell_type": "code",
      "metadata": {
        "id": "Dtd4GWKde81A"
      },
      "source": [
        "#Building Model\n",
        "#crf_model=nltk.CRFTagger(verbose=True)\n",
        "#Training options are added in the training part\n",
        "crf_model=nltk.CRFTagger(verbose=False,training_opt={\"c1\":0,\"c2\":1})\n",
        "\n",
        "\n",
        "#TRAINING THE MODEL\n",
        "crf_model.train(train_data,\"model.crf.tagger\")\n",
        "\n"
      ],
      "execution_count": null,
      "outputs": []
    },
    {
      "cell_type": "code",
      "metadata": {
        "colab": {
          "base_uri": "https://localhost:8080/"
        },
        "id": "NeKJ1aB9fFWv",
        "outputId": "bc4cb053-bfd9-49eb-c99c-8dcceb3b4ff0"
      },
      "source": [
        "#EVALUATING THE DATA\n",
        "result=crf_model.evaluate(test_data)\n",
        "print(result)"
      ],
      "execution_count": null,
      "outputs": [
        {
          "output_type": "stream",
          "name": "stdout",
          "text": [
            "0.7978197234278793\n"
          ]
        }
      ]
    },
    {
      "cell_type": "code",
      "metadata": {
        "id": "TCuK71yxgOYT"
      },
      "source": [
        ""
      ],
      "execution_count": null,
      "outputs": []
    },
    {
      "cell_type": "markdown",
      "metadata": {
        "id": "wIr0f1AaUEGP"
      },
      "source": [
        "# **Added Features**"
      ]
    },
    {
      "cell_type": "code",
      "metadata": {
        "id": "t8T4mBE_Ljev"
      },
      "source": [
        "tagged_sent = crf_model.tag_sents(test_sent)"
      ],
      "execution_count": null,
      "outputs": []
    },
    {
      "cell_type": "code",
      "metadata": {
        "id": "jL09NrxugzhA"
      },
      "source": [
        ""
      ],
      "execution_count": null,
      "outputs": []
    },
    {
      "cell_type": "markdown",
      "metadata": {
        "id": "Dq61iqw5L6Bo"
      },
      "source": [
        "# **1. Reduplicative Tag** \n",
        "*two consecutive occurrence of the word or the word-word form. Second occurrence will be tagged as RDP*"
      ]
    },
    {
      "cell_type": "code",
      "metadata": {
        "id": "gkBcR0txg3BW"
      },
      "source": [
        ""
      ],
      "execution_count": null,
      "outputs": []
    },
    {
      "cell_type": "code",
      "metadata": {
        "colab": {
          "base_uri": "https://localhost:8080/"
        },
        "id": "2LU7uGQ-LjHj",
        "outputId": "fe5692e1-2d76-4ce1-f5e9-b8b33074e0b7"
      },
      "source": [
        "for ts in tagged_sent:\n",
        "    ret=len(ts)-2\n",
        "    for w in range(ret):\n",
        "        if(ts[w][0]==ts[w+1][0]):\n",
        "            ts[w+1]=list(ts[w])\n",
        "            print(ts[w][0],ts[w+1][0])\n",
        "            ts[w+1][1]='RDP'\n",
        "            ts[w+1]=tuple(ts[w+1])\n",
        "        if(ts[w][0]==ts[w+2][0] and ts[w+1][0]=='-'):\n",
        "            #print(ts[w][0],ts[w+2][0])\n",
        "            ts[w+2]=list(ts[w+2])\n",
        "            ts[w+2][1]='RDP'\n",
        "            ts[w+2]=tuple(ts[w+2])\n",
        "            \n",
        "\n",
        "\n",
        "# ACCURACY - RDP feature added\n",
        "list_manual=[word[1] for sent in tagged_sent for word in sent]\n",
        "list_tagger=[word[1] for sent in test_data for word in sent]\n",
        "matrix=confusion_matrix(list_tagger,list_manual,labels=list(set(list_tagger)))\n",
        "df=pd.DataFrame(matrix,index=list(set(list_tagger)),columns=list(set(list_tagger)))\n",
        "summ=0\n",
        "acuuracy=0\n",
        "for tag in list(set(list_tagger)):\n",
        "    summ+=df[tag][tag]\n",
        "    \n",
        "total = len([word for sent in tagged_sent for word in sent])\n",
        "accuracy=summ/total       \n",
        "\n",
        "print(accuracy)            "
      ],
      "execution_count": null,
      "outputs": [
        {
          "output_type": "stream",
          "name": "stdout",
          "text": [
            "ट्व्का ट्व्का\n",
            "झड़दा झड़दा\n",
            "लंगी लंगी\n",
            "नाचे नाचे\n",
            "अलग अलग\n",
            "थ्वडा थ्वडा\n",
            "क्या क्या\n",
            "अजीब अजीब\n",
            "धीरे धीरे\n",
            "बड़ी बड़ी\n",
            "अलग अलग\n",
            "महीना महीना\n",
            "अलग अलग\n",
            "ना ना\n",
            "जख जख\n",
            "उख उख\n",
            "म्वाटो म्वाटो\n",
            "जख जख\n",
            "अलग अलग\n",
            "जगा जगा\n",
            "इन इन\n",
            "बार बार\n",
            "बार बार\n",
            "पैथर पैथर\n",
            "क्या क्या\n",
            "कखि कखि\n",
            "सुरक सुरक\n",
            "लम्बा लम्बा\n",
            "धार धार\n",
            "अपणी अपणी\n",
            "क्या क्या\n",
            "आदि आदि\n",
            "ना ना\n",
            "धीरे धीरे\n",
            "नै नै\n",
            "0.8290097910568285\n"
          ]
        }
      ]
    },
    {
      "cell_type": "code",
      "metadata": {
        "id": "gY4ASQdig6Hs"
      },
      "source": [
        ""
      ],
      "execution_count": null,
      "outputs": []
    },
    {
      "cell_type": "markdown",
      "metadata": {
        "id": "6SjiLJh8NwfX"
      },
      "source": [
        "# **2. Unknown Tag**\n",
        "\n",
        "*words only tagged as unknown in the training set will be tagged as UNK in the test set also*\n",
        "\n",
        "\n",
        "\n"
      ]
    },
    {
      "cell_type": "code",
      "metadata": {
        "id": "v_BcRz2xg8-o"
      },
      "source": [
        ""
      ],
      "execution_count": null,
      "outputs": []
    },
    {
      "cell_type": "code",
      "metadata": {
        "colab": {
          "base_uri": "https://localhost:8080/"
        },
        "id": "agjMFvw4LicW",
        "outputId": "01bfa592-488f-4919-cfe3-12356299fde4"
      },
      "source": [
        "#Words only tagged as UNK in the train data will be tagged as UNK  \n",
        "\n",
        "unknown_wrd=train_data\n",
        "unknown_wrd=[word[0] for sent in train_data for word in sent if(word[1]=='UNK')]\n",
        "allwrd=[word for sent in train_data for word in sent]\n",
        "unk_tags={}\n",
        "\n",
        "#list of unknown words\n",
        "for unk in unknown_wrd:\n",
        "    temp=[]\n",
        "    for word in allwrd:\n",
        "        if(unk==word[0]):\n",
        "            temp.append(word[1])\n",
        "    unk_tags[unk]=list(set(temp))        \n",
        "unknown_wrd=[]\n",
        "for word in unk_tags:\n",
        "    if(unk_tags[word]==['UNK']):\n",
        "        unknown_wrd.append(word)\n",
        "        \n",
        "for sent in tagged_sent:\n",
        "    for word in sent:\n",
        "        if(word[0] in unknown_wrd):\n",
        "            word=list(word)\n",
        "            word[1]=\"UNK\"\n",
        "            word=tuple(word)\n",
        "            \n",
        "            \n",
        "            \n",
        "## ACCURACY CALCULATION\n",
        "list_manual=[word[1] for sent in tagged_sent for word in sent]\n",
        "list_tagger=[word[1] for sent in test_data for word in sent]\n",
        "matrix=confusion_matrix(list_tagger,list_manual,labels=list(set(list_tagger)))\n",
        "df=pd.DataFrame(matrix,index=list(set(list_tagger)),columns=list(set(list_tagger)))\n",
        "summ=0\n",
        "acuuracy=0\n",
        "for tag in list(set(list_tagger)):\n",
        "    summ+=df[tag][tag]\n",
        "\n",
        "total = len([word for sent in tagged_sent for word in sent])\n",
        "accuracy=summ/total   \n",
        "print(accuracy)            "
      ],
      "execution_count": null,
      "outputs": [
        {
          "output_type": "stream",
          "name": "stdout",
          "text": [
            "0.8290097910568285\n"
          ]
        }
      ]
    },
    {
      "cell_type": "code",
      "metadata": {
        "id": "cljLbg2ZhGiq"
      },
      "source": [
        ""
      ],
      "execution_count": null,
      "outputs": []
    },
    {
      "cell_type": "markdown",
      "metadata": {
        "id": "lO8Db178PRtG"
      },
      "source": [
        "# **3. Symbol Tag**\n",
        "*All the special characters except for the numeric characters will be tagged as SYM*\n",
        "\n",
        "\n"
      ]
    },
    {
      "cell_type": "code",
      "metadata": {
        "id": "BlnQBRvkhIby"
      },
      "source": [
        ""
      ],
      "execution_count": null,
      "outputs": []
    },
    {
      "cell_type": "code",
      "metadata": {
        "colab": {
          "base_uri": "https://localhost:8080/"
        },
        "id": "1_ffy2rxLhw7",
        "outputId": "8faae0ee-e344-476a-8032-c94e7e4fb2f7"
      },
      "source": [
        "#Special Characters in the data will be tagged as SYM\n",
        "\n",
        "sym=[word[0] for sent in train_data for word in sent if(word[1] == 'SYM')]\n",
        "sym=list(set(sym))\n",
        "for sent in tagged_sent:\n",
        "    leng=len(sent)-1\n",
        "    for w in range(leng):\n",
        "        if(sent[w][1]=='SYM'):\n",
        "            if not (sent[w][0] in sym):\n",
        "                \n",
        "                \n",
        "                tag=tagger.tag([sent[w][0]])\n",
        "                sent[w]=list(sent[w])\n",
        "                sent[w][1]=tag[0][1]\n",
        "                sent[w]=tuple(sent[w])\n",
        "              \n",
        "\n",
        "## ACCURACY CALCULATION\n",
        "list_manual=[word[1] for sent in tagged_sent for word in sent]\n",
        "list_tagger=[word[1] for sent in test_data for word in sent]\n",
        "matrix=confusion_matrix(list_tagger,list_manual,labels=list(set(list_tagger)))\n",
        "df=pd.DataFrame(matrix,index=list(set(list_tagger)),columns=list(set(list_tagger)))\n",
        "summ=0\n",
        "acuuracy=0\n",
        "for tag in list(set(list_tagger)):\n",
        "    summ+=df[tag][tag]\n",
        "    \n",
        "    \n",
        "total = len([word for sent in tagged_sent for word in sent])\n",
        "accuracy=summ/total   \n",
        "\n",
        "print(accuracy)                "
      ],
      "execution_count": null,
      "outputs": [
        {
          "output_type": "stream",
          "name": "stdout",
          "text": [
            "0.8290097910568285\n"
          ]
        }
      ]
    },
    {
      "cell_type": "code",
      "metadata": {
        "id": "R-rumzODhKJI"
      },
      "source": [
        ""
      ],
      "execution_count": null,
      "outputs": []
    },
    {
      "cell_type": "markdown",
      "metadata": {
        "id": "ZMsaZLiJQRsv"
      },
      "source": [
        "# **4. Verb Tag**\n",
        "*words containing entire word which tagged as NN and ending with ['ली' , 'लि' , 'नि' , 'नी'  , 'ण' , 'णी' , 'णि ' , ' ु', ' ू' ]   will tagged as VM*"
      ]
    },
    {
      "cell_type": "code",
      "metadata": {
        "id": "ZLfEA0L7hMxT"
      },
      "source": [
        ""
      ],
      "execution_count": null,
      "outputs": []
    },
    {
      "cell_type": "code",
      "metadata": {
        "id": "P8u2bRsnQKoA"
      },
      "source": [
        "# NN_words = [word[0] for sent in train_data for word in sent if(word[1]=='NN')]\n",
        "# all_wrd= [word for sent in train_data for word in sent]\n",
        "# NV_words = []\n",
        "# for word in all_wrd:\n",
        "#     if(word[0] in NN_words):\n",
        "#         if(word[1] == 'NN' and (word[1] == 'VM' or word[1] == 'VAUX')):\n",
        "#             NV_words.append(word[0])\n",
        "\n",
        "            \n",
        "# ending_diacritic=['ली' , 'लि' , 'नि' , 'नी'  , 'ण' , 'णी' , 'णि ' , ' ु', ' ू' ]            \n",
        "# for sent in tagged_sent:\n",
        "#     for word in sent:\n",
        "#         Val=0\n",
        "#         for w in NV_words:\n",
        "#             if(word[0] in w):\n",
        "#                 Val=1\n",
        "            \n",
        "#         if(Val == 1):\n",
        "#             if(word[-2:] in ending_diacritic or word[-1] in ending_diacritic):\n",
        "#                 word=list(word)\n",
        "#                 word[1]='VM'\n",
        "#                 word=tuple(word)\n",
        "\n",
        "\n",
        "# ## ACCURACY CALCULATION\n",
        "# list_manual=[word[1] for sent in tagged_sent for word in sent]\n",
        "# list_tagger=[word[1] for sent in test_data for word in sent]\n",
        "# matrix=confusion_matrix(list_tagger,list_manual,labels=list(set(list_tagger)))\n",
        "# df=pd.DataFrame(matrix,index=list(set(list_tagger)),columns=list(set(list_tagger)))\n",
        "# summ=0\n",
        "# acuuracy=0\n",
        "# for tag in list(set(list_tagger)):\n",
        "#     summ+=df[tag][tag]\n",
        "#     #print(tag,summ)\n",
        "\n",
        "# total = len([word for sent in tagged_sent for word in sent])\n",
        "# accuracy=summ/total   \n",
        "\n",
        "# print(accuracy)"
      ],
      "execution_count": null,
      "outputs": []
    },
    {
      "cell_type": "code",
      "metadata": {
        "id": "1qL2C5K6hOhP"
      },
      "source": [
        ""
      ],
      "execution_count": null,
      "outputs": []
    },
    {
      "cell_type": "markdown",
      "metadata": {
        "id": "wKbOMhFkQ2wO"
      },
      "source": [
        "# **5.Auxiliary Words**\n",
        "*words after Verb will be tagged as Auxiliary Verb*"
      ]
    },
    {
      "cell_type": "code",
      "metadata": {
        "id": "Qq19SLHohQJF"
      },
      "source": [
        ""
      ],
      "execution_count": null,
      "outputs": []
    },
    {
      "cell_type": "code",
      "metadata": {
        "id": "VEo-iglgSd2m"
      },
      "source": [
        "# #list of words that are tagged as VERB or VAUX\n",
        "# v_wrd=train_data\n",
        "# v_wrd=[word[0] for sent in train_data for word in sent if(word[1]=='VERB' or word[1]=='VAUX')]\n",
        "# allwrd=[word for sent in train_data for word in sent]\n",
        "# v_tags={}\n",
        "\n",
        "# #list of verb or vaux words\n",
        "# for v in v_wrd:\n",
        "#     temp=[]\n",
        "#     for word in allwrd:\n",
        "#         if(v==word[0]):\n",
        "#             temp.append(word[1])\n",
        "#     v_tags[v]=list(set(temp))        \n",
        "\n",
        "# vv_words=[]    \n",
        "# for word in v_tags:\n",
        "#     if(len(v_tags[word]) <= 2):\n",
        "#         if(v_tags[word] in ['VAUX','VM']):\n",
        "#             vv_words.append(word)\n",
        "            \n",
        "# for sent in tagged_sent:\n",
        "#     leng=len(sent)-1\n",
        "#     for w in range(leng):\n",
        "#         if(sent[w][1] in ['VM','VAUX'] and sent[w+1][0] in vv_words):\n",
        "#             sent[w+1]=list(sent[w+1])\n",
        "#             sent[w+1][1]='VAUX'\n",
        "#             sent[w+1]=tuple(sent[w+1])\n",
        "\n",
        "\n",
        "\n",
        "# ## ACCURACY CALCULATION\n",
        "# list_manual=[word[1] for sent in tagged_sent for word in sent]\n",
        "# list_tagger=[word[1] for sent in test_data for word in sent]\n",
        "# matrix=confusion_matrix(list_tagger,list_manual,labels=list(set(list_tagger)))\n",
        "# df=pd.DataFrame(matrix,index=list(set(list_tagger)),columns=list(set(list_tagger)))\n",
        "# summ=0\n",
        "# acuuracy=0\n",
        "# for tag in list(set(list_tagger)):\n",
        "#     summ+=df[tag][tag]\n",
        "#     print(tag,summ)\n",
        "\n",
        "\n",
        "# total = len([word for sent in tagged_sent for word in sent])\n",
        "# accuracy=summ/total \n",
        "\n",
        "\n",
        "# print(accuracy)"
      ],
      "execution_count": null,
      "outputs": []
    },
    {
      "cell_type": "code",
      "metadata": {
        "id": "CgtE2eGahRpg"
      },
      "source": [
        ""
      ],
      "execution_count": null,
      "outputs": []
    },
    {
      "cell_type": "markdown",
      "metadata": {
        "id": "L35fgX5pSl6-"
      },
      "source": [
        "# **6. Using StanfordNlp Library**\n",
        "*Using Stanfordnlp library to deal with adjective and adverb*"
      ]
    },
    {
      "cell_type": "code",
      "metadata": {
        "id": "Mz_fdMTwhTMD"
      },
      "source": [
        ""
      ],
      "execution_count": null,
      "outputs": []
    },
    {
      "cell_type": "code",
      "metadata": {
        "id": "8fPevhjXS7iw"
      },
      "source": [
        "# import stanfordnlp\n",
        "# nlp = stanfordnlp.Pipeline(processors = 'tokenize,pos' , lang = 'hi' , models_dir= r\"C:\\Users\\Hp\\stanfordnlp_resources\")\n",
        "\n",
        "\n",
        "# jr_words = [word[0] for sent in train_data for word in sent if(word[1] == 'RB' or word[1] == 'JJ')]\n",
        "# jr_words = list(set(jr_words))\n",
        "\n",
        "# acceptable=['JJ','RB']\n",
        "\n",
        "# jr_dict={}\n",
        "# for word in jr_words:\n",
        "#     jr_dict[word]=[]\n",
        "\n",
        "\n",
        "\n",
        "# for sent in train_data:\n",
        "#     leng=len(sent)\n",
        "#     for w in range(leng):\n",
        "#         if(sent[w][0] in jr_words and sent[w][1] in acceptable):\n",
        "#             jr_dict[sent[w][0]].append(sent[w][1])\n",
        "            \n",
        "            \n",
        "            \n",
        "            \n",
        "# for word in jr_dict:\n",
        "#     jr_dict[word]=list(set(jr_dict[word]))\n",
        "                \n",
        "\n",
        "# #dictionary that contains pos tags and their explanations\n",
        "# pos_dict = {\"ADJ\":\"JJ\",\n",
        "#             \"ADV\":\"RB\"}\n",
        "\n",
        "# #extract parts of speech\n",
        "# def extract_pos(doc):\n",
        "#     for sent in doc.sentences:\n",
        "        \n",
        "#         s=[]\n",
        "#         for wrd in sent.words:\n",
        "#             if wrd.pos in pos_dict.keys():\n",
        "#                 wrd.pos = pos_dict[word.pos]\n",
        "#             temp=(wrd.text,wrd.pos)\n",
        "            \n",
        "#             s.append(temp)\n",
        "        \n",
        "\n",
        "#         return(s)   \n",
        "\n",
        "\n",
        "# stand_sent=[]\n",
        "# for sentence in tagged_sent:\n",
        "#     s=\"\"\n",
        "#     leng=len(sentence)\n",
        "#     print(leng)\n",
        "#     for w in range(leng):\n",
        "#         s = s+\" {}\".format(sentence[w][0])\n",
        "#     s = s[1:]\n",
        "#     doc = nlp(s)\n",
        "#     stanfrdnlp = extract_pos(doc)\n",
        "#     stand_sent.append(stanfrdnlp)\n",
        "    \n",
        "\n",
        "\n",
        "# len(tagged_sent)\n",
        "# for s_ind in range(len(tagged_sent)):\n",
        "#     for w_ind in range(len(tagged_sent[s_ind])):\n",
        "#         if(tagged_sent[s_ind][w_ind][1] == 'RB' or tagged_sent[s_ind][w_ind][1] == 'JJ'):\n",
        "#             try:\n",
        "#                 tagged_sent[s_ind][w_ind] = list(tagged_sent[s_ind][w_ind])\n",
        "#                 print(\"s\",s_ind,\"w\",w_ind, tagged_sent[s_ind],tagged_sent[s_ind][w_ind],tagged_sent[s_ind][w_ind][1])\n",
        "#                 tagged_sent[s_ind][w_ind][1] = stand_sent[s_ind][w_ind][1]\n",
        "#                 tagged_sent[s_ind][w_ind]=tuple(tagged_sent[s_ind][w_ind])\n",
        "#             except: \n",
        "#                 continue\n",
        "\n",
        "\n",
        "\n",
        "# ## ACCURACY CALCULATION\n",
        "# list_manual=[word[1] for sent in tagged_sent for word in sent]\n",
        "# list_tagger=[word[1] for sent in validate_data for word in sent]\n",
        "# matrix=confusion_matrix(list_tagger,list_manual,labels=list(set(list_tagger)))\n",
        "# df=pd.DataFrame(matrix,index=list(set(list_tagger)),columns=list(set(list_tagger)))\n",
        "# summ=0\n",
        "# acuuracy=0\n",
        "# for tag in list(set(list_tagger)):\n",
        "#     summ+=df[tag][tag]\n",
        "#     #print(tag,summ)\n",
        "\n",
        "\n",
        "# total = len([word for sent in tagged_sent for word in sent])\n",
        "# accuracy=summ/total   \n",
        "\n",
        "\n",
        "# print(accuracy)\n"
      ],
      "execution_count": null,
      "outputs": []
    },
    {
      "cell_type": "code",
      "metadata": {
        "id": "gVe6sH7HhUd0"
      },
      "source": [
        ""
      ],
      "execution_count": null,
      "outputs": []
    },
    {
      "cell_type": "markdown",
      "metadata": {
        "id": "MZKh6EBdTX9O"
      },
      "source": [
        "# **7. Only Single Tag**\n",
        "*Assigning the same tag to the word which are only tagged with a single type of category thoroughly in the training_data*"
      ]
    },
    {
      "cell_type": "code",
      "metadata": {
        "id": "1WM85Rq2hWHW"
      },
      "source": [
        ""
      ],
      "execution_count": null,
      "outputs": []
    },
    {
      "cell_type": "code",
      "metadata": {
        "id": "mgLzAGrAS7IO"
      },
      "source": [
        "# jr_words = [word[0] for sent in train_data for word in sent]\n",
        "# jr_words = list(set(jr_words))\n",
        "# word_dict={}\n",
        "# for jr in jr_words:\n",
        "#     temp=[]\n",
        "#     for sent in tagged_sent:\n",
        "#         for word in sent:\n",
        "#             if(jr == word[0]):\n",
        "#                 temp.append(word[1])\n",
        "#     if(len(list(set(temp))) == 1):\n",
        "#         if('RB' in temp or 'JJ' in temp):\n",
        "#             word_dict[jr]=list(set(temp))\n",
        "    \n",
        "    \n",
        "\n",
        "# for sent in tagged_sent:\n",
        "#     for word in sent:\n",
        "#         if(word[0] in word_dict.keys()):\n",
        "#             word = list(word)\n",
        "#             w=word[0]\n",
        "#             word[1] = word_dict[w]\n",
        "#             word = tuple(word)\n",
        "\n",
        "\n",
        "\n",
        "# ## ACCURACY CALCULATION\n",
        "# list_manual=[word[1] for sent in tagged_sent for word in sent]\n",
        "# list_tagger=[word[1] for sent in test_data for word in sent]\n",
        "# matrix=confusion_matrix(list_tagger,list_manual,labels=list(set(list_tagger)))\n",
        "# df=pd.DataFrame(matrix,index=list(set(list_tagger)),columns=list(set(list_tagger)))\n",
        "# summ=0\n",
        "# acuuracy=0\n",
        "# for tag in list(set(list_tagger)):\n",
        "#     summ+=df[tag][tag]\n",
        "\n",
        "# total = len([word for sent in tagged_sent for word in sent])\n",
        "# accuracy=summ/total   \n",
        "\n",
        "\n",
        "# print(accuracy)"
      ],
      "execution_count": null,
      "outputs": []
    },
    {
      "cell_type": "code",
      "metadata": {
        "id": "fNCwoohShXiR"
      },
      "source": [
        ""
      ],
      "execution_count": null,
      "outputs": []
    },
    {
      "cell_type": "markdown",
      "metadata": {
        "id": "9vHwAHiGkSoL"
      },
      "source": [
        "# **Graphical Represtation of Error**"
      ]
    },
    {
      "cell_type": "markdown",
      "metadata": {
        "id": "OjdNTv2dmTZa"
      },
      "source": [
        ""
      ]
    },
    {
      "cell_type": "code",
      "metadata": {
        "id": "KlYMupXokYA0"
      },
      "source": [
        "#sentences_tagged_by_tagger without add on features\n",
        "tagged_sent=crf_model.tag_sents(test_sent)"
      ],
      "execution_count": null,
      "outputs": []
    },
    {
      "cell_type": "code",
      "metadata": {
        "id": "KnLSgWm_ke_y"
      },
      "source": [
        "list_tagger=[word[1] for sent in test_data for word in sent]"
      ],
      "execution_count": null,
      "outputs": []
    },
    {
      "cell_type": "code",
      "metadata": {
        "id": "-bWMIAAPlBtu"
      },
      "source": [
        "list_manual=[word[1] for sent in tagged_sent for word in sent]"
      ],
      "execution_count": null,
      "outputs": []
    },
    {
      "cell_type": "code",
      "metadata": {
        "id": "1Vjy85kClC3r"
      },
      "source": [
        "matrix=confusion_matrix(list_tagger,list_manual,labels=list(set(list_tagger)))"
      ],
      "execution_count": null,
      "outputs": []
    },
    {
      "cell_type": "code",
      "metadata": {
        "id": "TrE5b8P0lEMg"
      },
      "source": [
        "df=pd.DataFrame(matrix,index=list(set(list_tagger)),columns=list(set(list_tagger)))\n"
      ],
      "execution_count": null,
      "outputs": []
    },
    {
      "cell_type": "code",
      "metadata": {
        "id": "c-OrMvSqlFlx"
      },
      "source": [
        "summ=0\n",
        "acuuracy=0\n",
        "for tag in list(set(list_tagger)):\n",
        "    summ+=df[tag][tag]\n",
        "    \n",
        "    \n",
        "accuracy=summ/len(list_tagger)  "
      ],
      "execution_count": null,
      "outputs": []
    },
    {
      "cell_type": "code",
      "metadata": {
        "id": "o2imT7dXlUuW"
      },
      "source": [
        "df[\"WQ\"]=df[\"WQ\"]\n",
        "df[\"QC\"]=df[\"QC\"]+df[\"QCC\"]\n",
        "df[\"DEM\"]=df[\"DEM\"]\n",
        "df[\"PSP\"]=df[\"PSP\"]+df[\"PSPC\"]\n",
        "df[\"QF\"]=df[\"QF\"]\n",
        "df[\"NEG\"]=df[\"NEG\"]\n",
        "df[\"NNP\"]=df[\"NNP\"]+df[\"NNPC\"]\n",
        "df[\"JJ\"]=df[\"JJ\"]+df[\"JJC\"]\n",
        "df[\"RB\"]=df[\"RB\"]+df[\"RBC\"]\n",
        "df[\"NN\"]=df[\"NN\"]+df[\"NNC\"]\n",
        "df[\"UNK\"]=df[\"UNK\"]\n",
        "df[\"VM\"]=df[\"VM\"]+df[\"VMC\"]\n",
        "df[\"RP\"]=df[\"RP\"]\n",
        "\n",
        "\n",
        "\n",
        "df.drop([\"QCC\",\"PSPC\",\"NNPC\",\"JJC\",\"RBC\",\"NNC\",\"VMC\"],axis=1,inplace=True)\n",
        "\n"
      ],
      "execution_count": null,
      "outputs": []
    },
    {
      "cell_type": "code",
      "metadata": {
        "id": "VwdQ4mDvlXss"
      },
      "source": [
        "\n",
        "df.loc[\"WQ\",:]=df.loc[\"WQ\",:]\n",
        "df.loc[\"QC\",:]=df.loc[\"QC\",:]+df.loc[\"QCC\",:]\n",
        "df.loc[\"DEM\",:]=df.loc[\"DEM\",:]\n",
        "df.loc[\"PSP\",:]=df.loc[\"PSP\",:]+df.loc[\"PSPC\",:]\n",
        "df.loc[\"QF\",:]=df.loc[\"QF\",:]\n",
        "df.loc[\"NEG\",:]=df.loc[\"NEG\",:]\n",
        "df.loc[\"NNP\",:]=df.loc[\"NNP\",:]+df.loc[\"NNPC\",:]\n",
        "df.loc[\"JJ\",:]=df.loc[\"JJ\",:]+df.loc[\"JJC\",:]\n",
        "df.loc[\"RB\",:]=df.loc[\"RB\",:]+df.loc[\"RBC\",:]\n",
        "df.loc[\"NN\",:]=df.loc[\"NN\",:]+df.loc[\"NNC\",:]\n",
        "df.loc[\"UNK\",:]=df.loc[\"UNK\",:]\n",
        "df.loc[\"VM\",:]=df.loc[\"VM\",:]+df.loc[\"VMC\",:]\n",
        "df.loc[\"RP\",:]=df.loc[\"RP\",:]\n",
        "\n",
        "df.drop([\"QCC\",\"PSPC\",\"NNPC\",\"JJC\",\"RBC\",\"NNC\",\"VMC\"],axis=0,inplace=True)\n",
        "\n",
        "\n"
      ],
      "execution_count": null,
      "outputs": []
    },
    {
      "cell_type": "code",
      "metadata": {
        "colab": {
          "base_uri": "https://localhost:8080/",
          "height": 350
        },
        "id": "A1PVXhiClY18",
        "outputId": "c9261d9e-586a-4567-8917-2f5af52f5f39"
      },
      "source": [
        "\n",
        "import matplotlib.pyplot as plt\n",
        "\n",
        "labels=[]\n",
        "precision=[]\n",
        "prec_err=[]\n",
        "labels=df.columns\n",
        "\n",
        "\n",
        "\n",
        "for tag in labels:\n",
        "    tp=df[tag][tag]\n",
        "    fp=0\n",
        "    others=[]\n",
        "    others=[lab for lab in labels if not lab==tag]\n",
        "    for other in others:\n",
        "        fp=fp+df[tag][other]\n",
        "    prec=tp/(tp+fp)\n",
        "    precision.append(prec)\n",
        "    prec_err.append(1-prec)    \n",
        "    \n",
        "    \n",
        "    \n",
        "\n",
        "plt.figure(figsize=(8,5))\n",
        "plt.xticks(rotation=45)\n",
        "plt.plot(labels, precision)\n",
        "plt.xlabel(\"Tags\")\n",
        "plt.ylabel(\"Precision\")\n",
        "plt.show()\n"
      ],
      "execution_count": null,
      "outputs": [
        {
          "output_type": "display_data",
          "data": {
            "image/png": "[encoded data removed]",
            "text/plain": [
              "<Figure size 576x360 with 1 Axes>"
            ]
          },
          "metadata": {
            "needs_background": "light"
          }
        }
      ]
    },
    {
      "cell_type": "code",
      "metadata": {
        "colab": {
          "base_uri": "https://localhost:8080/",
          "height": 350
        },
        "id": "A5fD0OYjlgbA",
        "outputId": "1d3c5745-86be-49be-ba8c-f995fd204852"
      },
      "source": [
        "\n",
        "plt.figure(figsize=(8,5))\n",
        "plt.xticks(rotation=45)\n",
        "plt.plot(labels, prec_err)\n",
        "\n",
        "plt.xlabel(\"Tags\")\n",
        "plt.ylabel(\"Precision error\")\n",
        "plt.show()"
      ],
      "execution_count": null,
      "outputs": [
        {
          "output_type": "display_data",
          "data": {
            "image/png": "[encoded data removed]",
            "text/plain": [
              "<Figure size 576x360 with 1 Axes>"
            ]
          },
          "metadata": {
            "needs_background": "light"
          }
        }
      ]
    },
    {
      "cell_type": "code",
      "metadata": {
        "id": "6Uwg_2aMlhbF"
      },
      "source": [
        ""
      ],
      "execution_count": null,
      "outputs": []
    }
  ]
}